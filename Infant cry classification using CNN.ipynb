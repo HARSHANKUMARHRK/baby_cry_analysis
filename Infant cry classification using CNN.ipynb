{
 "cells": [
  {
   "cell_type": "code",
   "execution_count": 1,
   "id": "f8e17dc9",
   "metadata": {
    "tags": []
   },
   "outputs": [
    {
     "name": "stdout",
     "output_type": "stream",
     "text": [
      "Requirement already satisfied: librosa in /Users/harshan/anaconda3/lib/python3.11/site-packages (0.10.1)\n",
      "Requirement already satisfied: audioread>=2.1.9 in /Users/harshan/anaconda3/lib/python3.11/site-packages (from librosa) (3.0.1)\n",
      "Requirement already satisfied: numpy!=1.22.0,!=1.22.1,!=1.22.2,>=1.20.3 in /Users/harshan/anaconda3/lib/python3.11/site-packages (from librosa) (1.24.3)\n",
      "Requirement already satisfied: scipy>=1.2.0 in /Users/harshan/anaconda3/lib/python3.11/site-packages (from librosa) (1.10.1)\n",
      "Requirement already satisfied: scikit-learn>=0.20.0 in /Users/harshan/anaconda3/lib/python3.11/site-packages (from librosa) (1.3.0)\n",
      "Requirement already satisfied: joblib>=0.14 in /Users/harshan/anaconda3/lib/python3.11/site-packages (from librosa) (1.2.0)\n",
      "Requirement already satisfied: decorator>=4.3.0 in /Users/harshan/anaconda3/lib/python3.11/site-packages (from librosa) (4.4.2)\n",
      "Requirement already satisfied: numba>=0.51.0 in /Users/harshan/anaconda3/lib/python3.11/site-packages (from librosa) (0.57.0)\n",
      "Requirement already satisfied: soundfile>=0.12.1 in /Users/harshan/anaconda3/lib/python3.11/site-packages (from librosa) (0.12.1)\n",
      "Requirement already satisfied: pooch>=1.0 in /Users/harshan/anaconda3/lib/python3.11/site-packages (from librosa) (1.4.0)\n",
      "Requirement already satisfied: soxr>=0.3.2 in /Users/harshan/anaconda3/lib/python3.11/site-packages (from librosa) (0.3.7)\n",
      "Requirement already satisfied: typing-extensions>=4.1.1 in /Users/harshan/anaconda3/lib/python3.11/site-packages (from librosa) (4.10.0)\n",
      "Requirement already satisfied: lazy-loader>=0.1 in /Users/harshan/anaconda3/lib/python3.11/site-packages (from librosa) (0.2)\n",
      "Requirement already satisfied: msgpack>=1.0 in /Users/harshan/anaconda3/lib/python3.11/site-packages (from librosa) (1.0.3)\n",
      "Requirement already satisfied: llvmlite<0.41,>=0.40.0dev0 in /Users/harshan/anaconda3/lib/python3.11/site-packages (from numba>=0.51.0->librosa) (0.40.0)\n",
      "Requirement already satisfied: requests in /Users/harshan/anaconda3/lib/python3.11/site-packages (from pooch>=1.0->librosa) (2.31.0)\n",
      "Requirement already satisfied: packaging in /Users/harshan/anaconda3/lib/python3.11/site-packages (from pooch>=1.0->librosa) (23.0)\n",
      "Requirement already satisfied: appdirs in /Users/harshan/anaconda3/lib/python3.11/site-packages (from pooch>=1.0->librosa) (1.4.4)\n",
      "Requirement already satisfied: threadpoolctl>=2.0.0 in /Users/harshan/anaconda3/lib/python3.11/site-packages (from scikit-learn>=0.20.0->librosa) (2.2.0)\n",
      "Requirement already satisfied: cffi>=1.0 in /Users/harshan/anaconda3/lib/python3.11/site-packages (from soundfile>=0.12.1->librosa) (1.15.1)\n",
      "Requirement already satisfied: pycparser in /Users/harshan/anaconda3/lib/python3.11/site-packages (from cffi>=1.0->soundfile>=0.12.1->librosa) (2.21)\n",
      "Requirement already satisfied: charset-normalizer<4,>=2 in /Users/harshan/anaconda3/lib/python3.11/site-packages (from requests->pooch>=1.0->librosa) (2.0.4)\n",
      "Requirement already satisfied: idna<4,>=2.5 in /Users/harshan/anaconda3/lib/python3.11/site-packages (from requests->pooch>=1.0->librosa) (2.10)\n",
      "Requirement already satisfied: urllib3<3,>=1.21.1 in /Users/harshan/anaconda3/lib/python3.11/site-packages (from requests->pooch>=1.0->librosa) (1.26.16)\n",
      "Requirement already satisfied: certifi>=2017.4.17 in /Users/harshan/anaconda3/lib/python3.11/site-packages (from requests->pooch>=1.0->librosa) (2023.7.22)\n",
      "\u001b[33mDEPRECATION: textract 1.6.5 has a non-standard dependency specifier extract-msg<=0.29.*. pip 23.3 will enforce this behaviour change. A possible replacement is to upgrade to a newer version of textract or contact the author to suggest that they release a version with a conforming dependency specifiers. Discussion can be found at https://github.com/pypa/pip/issues/12063\u001b[0m\u001b[33m\n",
      "\u001b[0m"
     ]
    }
   ],
   "source": [
    "!pip install librosa\n",
    "#importing the required libraries\n",
    "import librosa\n",
    "import pandas as pd\n",
    "import numpy as np\n",
    "import matplotlib.pyplot as plt\n",
    "from keras.models import Sequential\n",
    "from keras.layers import Dense,Flatten,Conv2D,MaxPool2D,Dropout \n",
    "%matplotlib inline\n",
    "import os\n",
    "import csv\n",
    "# Preprocessing\n",
    "from sklearn.model_selection import train_test_split\n",
    "from sklearn.preprocessing import LabelEncoder, StandardScaler\n",
    "import keras\n",
    "import warnings\n",
    "warnings.filterwarnings('ignore')"
   ]
  },
  {
   "cell_type": "code",
   "execution_count": 2,
   "id": "f268b4c2",
   "metadata": {
    "tags": []
   },
   "outputs": [],
   "source": [
    "#importing our dataset and removing the filename column\n",
    "import pandas as pd\n",
    "data=pd.read_csv(\"infant cry dataset.csv\")\n",
    "data=data.drop(['Cry_Audio_File'],axis=1)"
   ]
  },
  {
   "cell_type": "code",
   "execution_count": 3,
   "id": "1f4e3c7e",
   "metadata": {
    "tags": []
   },
   "outputs": [
    {
     "name": "stdout",
     "output_type": "stream",
     "text": [
      "(364, 23)\n",
      "(91, 23)\n",
      "(364,)\n",
      "(91,)\n"
     ]
    }
   ],
   "source": [
    "#Creating training and testing datas\n",
    "genre_list = data['Cry_Reason']\n",
    "encoder = LabelEncoder()\n",
    "y = encoder.fit_transform(genre_list)\n",
    "scaler = StandardScaler()\n",
    "X = scaler.fit_transform(np.array(data.iloc[:, :-1], dtype = float))\n",
    "X_train, X_test, y_train, y_test = train_test_split(X, y, test_size=0.2)\n",
    "for i in X_train, X_test, y_train, y_test:\n",
    "    print(i.shape)"
   ]
  },
  {
   "cell_type": "code",
   "execution_count": 4,
   "id": "347e45e6",
   "metadata": {
    "tags": []
   },
   "outputs": [
    {
     "name": "stdout",
     "output_type": "stream",
     "text": [
      "Model: \"sequential\"\n",
      "_________________________________________________________________\n",
      " Layer (type)                Output Shape              Param #   \n",
      "=================================================================\n",
      " dense (Dense)               (None, 256)               6144      \n",
      "                                                                 \n",
      " dense_1 (Dense)             (None, 128)               32896     \n",
      "                                                                 \n",
      " dense_2 (Dense)             (None, 64)                8256      \n",
      "                                                                 \n",
      " dense_3 (Dense)             (None, 5)                 325       \n",
      "                                                                 \n",
      "=================================================================\n",
      "Total params: 47621 (186.02 KB)\n",
      "Trainable params: 47621 (186.02 KB)\n",
      "Non-trainable params: 0 (0.00 Byte)\n",
      "_________________________________________________________________\n"
     ]
    }
   ],
   "source": [
    "#Adding layers(Convolutional,pooling,dense layers)\n",
    "from keras import models\n",
    "from keras import layers\n",
    "cnnmodel = models.Sequential()\n",
    "cnnmodel.add(layers.Dense(256, activation='relu', input_shape=(X_train.shape[1],)))\n",
    "cnnmodel.add(layers.Dense(128, activation='relu'))\n",
    "cnnmodel.add(layers.Dense(64, activation='relu'))\n",
    "cnnmodel.add(layers.Dense(5, activation='softmax'))\n",
    "cnnmodel.summary()"
   ]
  },
  {
   "cell_type": "code",
   "execution_count": 5,
   "id": "c0ad46ce",
   "metadata": {
    "tags": []
   },
   "outputs": [],
   "source": [
    "#Optimising the model\n",
    "cnnmodel.compile(optimizer='adam',\n",
    "              loss='sparse_categorical_crossentropy',\n",
    "              metrics=['accuracy'])"
   ]
  },
  {
   "cell_type": "code",
   "execution_count": 6,
   "id": "996ee5e0",
   "metadata": {
    "tags": []
   },
   "outputs": [
    {
     "name": "stdout",
     "output_type": "stream",
     "text": [
      "Epoch 1/20\n",
      "3/3 [==============================] - 0s 3ms/step - loss: 1.3530 - accuracy: 0.6978\n",
      "Epoch 2/20\n",
      "3/3 [==============================] - 0s 2ms/step - loss: 0.9627 - accuracy: 0.8407\n",
      "Epoch 3/20\n",
      "3/3 [==============================] - 0s 2ms/step - loss: 0.7442 - accuracy: 0.8407\n",
      "Epoch 4/20\n",
      "3/3 [==============================] - 0s 2ms/step - loss: 0.6804 - accuracy: 0.8407\n",
      "Epoch 5/20\n",
      "3/3 [==============================] - 0s 2ms/step - loss: 0.6529 - accuracy: 0.8407\n",
      "Epoch 6/20\n",
      "3/3 [==============================] - 0s 3ms/step - loss: 0.6001 - accuracy: 0.8407\n",
      "Epoch 7/20\n",
      "3/3 [==============================] - 0s 2ms/step - loss: 0.5375 - accuracy: 0.8407\n",
      "Epoch 8/20\n",
      "3/3 [==============================] - 0s 2ms/step - loss: 0.4861 - accuracy: 0.8516\n",
      "Epoch 9/20\n",
      "3/3 [==============================] - 0s 2ms/step - loss: 0.4541 - accuracy: 0.8654\n",
      "Epoch 10/20\n",
      "3/3 [==============================] - 0s 4ms/step - loss: 0.4172 - accuracy: 0.8764\n",
      "Epoch 11/20\n",
      "3/3 [==============================] - 0s 2ms/step - loss: 0.3749 - accuracy: 0.8791\n",
      "Epoch 12/20\n",
      "3/3 [==============================] - 0s 2ms/step - loss: 0.3381 - accuracy: 0.8819\n",
      "Epoch 13/20\n",
      "3/3 [==============================] - 0s 2ms/step - loss: 0.3034 - accuracy: 0.8846\n",
      "Epoch 14/20\n",
      "3/3 [==============================] - 0s 3ms/step - loss: 0.2669 - accuracy: 0.8874\n",
      "Epoch 15/20\n",
      "3/3 [==============================] - 0s 2ms/step - loss: 0.2322 - accuracy: 0.9066\n",
      "Epoch 16/20\n",
      "3/3 [==============================] - 0s 2ms/step - loss: 0.2046 - accuracy: 0.9286\n",
      "Epoch 17/20\n",
      "3/3 [==============================] - 0s 3ms/step - loss: 0.1741 - accuracy: 0.9451\n",
      "Epoch 18/20\n",
      "3/3 [==============================] - 0s 4ms/step - loss: 0.1466 - accuracy: 0.9615\n",
      "Epoch 19/20\n",
      "3/3 [==============================] - 0s 3ms/step - loss: 0.1220 - accuracy: 0.9698\n",
      "Epoch 20/20\n",
      "3/3 [==============================] - 0s 2ms/step - loss: 0.0995 - accuracy: 0.9780\n"
     ]
    }
   ],
   "source": [
    "#training data\n",
    "history = cnnmodel.fit(X_train,\n",
    "                    y_train,\n",
    "                    epochs=20,\n",
    "                    batch_size=128)"
   ]
  },
  {
   "cell_type": "code",
   "execution_count": 7,
   "id": "897bb67b",
   "metadata": {
    "tags": []
   },
   "outputs": [
    {
     "name": "stdout",
     "output_type": "stream",
     "text": [
      "3/3 [==============================] - 0s 2ms/step - loss: 0.2991 - accuracy: 0.8901\n",
      "test accuracy:  89.01 %\n"
     ]
    }
   ],
   "source": [
    "test_loss, test_acc = cnnmodel.evaluate(X_test,y_test)\n",
    "print('test accuracy: ',round(test_acc*100,2),'%')"
   ]
  },
  {
   "cell_type": "code",
   "execution_count": 10,
   "id": "6a3b447d",
   "metadata": {
    "tags": []
   },
   "outputs": [
    {
     "name": "stdout",
     "output_type": "stream",
     "text": [
      "Testing accuracy = 0.8681318681318682\n"
     ]
    }
   ],
   "source": [
    "#SVM\n",
    "#normalize\n",
    "from sklearn.preprocessing import StandardScaler\n",
    "from sklearn.svm import SVC\n",
    "from sklearn.metrics import confusion_matrix, accuracy_score\n",
    "sc = StandardScaler()\n",
    "X_train_svm = sc.fit_transform(X_train)\n",
    "X_test_svm = sc.transform(X_test)\n",
    "classifier = SVC(kernel = 'rbf', random_state = 42)\n",
    "classifier.fit(X_train_svm, y_train)\n",
    "y_pred = classifier.predict(X_test_svm)\n",
    "print(\"Testing accuracy =\",accuracy_score(y_test,y_pred))"
   ]
  },
  {
   "cell_type": "code",
   "execution_count": 11,
   "id": "ff3e3d0a",
   "metadata": {
    "tags": []
   },
   "outputs": [
    {
     "name": "stdout",
     "output_type": "stream",
     "text": [
      "Testing accuracy = 1.0\n"
     ]
    }
   ],
   "source": [
    "#Decision tree\n",
    "from sklearn.tree import DecisionTreeClassifier\n",
    "from sklearn.metrics import accuracy_score\n",
    "dtc=DecisionTreeClassifier(random_state=42)\n",
    "model_dtc=dtc.fit(X_train,y_train)\n",
    "tr_pred_dtc=model_dtc.predict(X_train)\n",
    "ts_pred_dtc=model_dtc.predict(X_test)\n",
    "print(\"Testing accuracy =\",accuracy_score(y_test,ts_pred_dtc))"
   ]
  },
  {
   "cell_type": "code",
   "execution_count": 12,
   "id": "9c25ab5c",
   "metadata": {
    "tags": []
   },
   "outputs": [
    {
     "name": "stdout",
     "output_type": "stream",
     "text": [
      "Testing accuracy = 0.9340659340659341\n"
     ]
    }
   ],
   "source": [
    "#Random forest\n",
    "from sklearn.ensemble import RandomForestClassifier\n",
    "from sklearn.metrics import confusion_matrix, accuracy_score\n",
    "rfc=RandomForestClassifier(random_state=42)\n",
    "model_rfc=rfc.fit(X_train,y_train)\n",
    "tr_pred_rfc=model_rfc.predict(X_train)\n",
    "ts_pred_rfc=model_rfc.predict(X_test)\n",
    "print(\"Testing accuracy =\",accuracy_score(y_test,ts_pred_rfc))"
   ]
  },
  {
   "cell_type": "code",
   "execution_count": 14,
   "id": "424eb10b",
   "metadata": {
    "tags": []
   },
   "outputs": [
    {
     "name": "stdout",
     "output_type": "stream",
     "text": [
      "Model: \"sequential_2\"\n",
      "_________________________________________________________________\n",
      " Layer (type)                Output Shape              Param #   \n",
      "=================================================================\n",
      " dense_8 (Dense)             (None, 128)               3072      \n",
      "                                                                 \n",
      " dense_9 (Dense)             (None, 64)                8256      \n",
      "                                                                 \n",
      " dense_10 (Dense)            (None, 32)                2080      \n",
      "                                                                 \n",
      " dense_11 (Dense)            (None, 5)                 165       \n",
      "                                                                 \n",
      "=================================================================\n",
      "Total params: 13573 (53.02 KB)\n",
      "Trainable params: 13573 (53.02 KB)\n",
      "Non-trainable params: 0 (0.00 Byte)\n",
      "_________________________________________________________________\n"
     ]
    }
   ],
   "source": [
    "from keras.models import Sequential\n",
    "from keras.layers import Dense\n",
    "\n",
    "ann_model = Sequential()\n",
    "ann_model.add(Dense(128, activation='relu', input_shape=(X_train.shape[1],)))\n",
    "ann_model.add(Dense(64, activation='relu'))\n",
    "ann_model.add(Dense(32, activation='relu'))\n",
    "ann_model.add(Dense(5, activation='softmax'))\n",
    "\n",
    "ann_model.summary()\n"
   ]
  },
  {
   "cell_type": "code",
   "execution_count": 15,
   "id": "656e93ec-d6db-4a0e-aff6-9b70f62271eb",
   "metadata": {
    "tags": []
   },
   "outputs": [
    {
     "data": {
      "image/png": "[encoded data removed]",
      "text/plain": [
       "<Figure size 640x480 with 1 Axes>"
      ]
     },
     "metadata": {},
     "output_type": "display_data"
    }
   ],
   "source": [
    "import matplotlib.pyplot as plt\n",
    "\n",
    "# Accuracy scores for each model\n",
    "svm_accuracy = accuracy_score(y_test, y_pred)\n",
    "dt_accuracy = accuracy_score(y_test, ts_pred_dtc)\n",
    "rf_accuracy = accuracy_score(y_test, ts_pred_rfc)\n",
    "\n",
    "# Creating a bar plot\n",
    "models = ['SVM', 'Decision Tree', 'Random Forest']\n",
    "accuracies = [svm_accuracy, dt_accuracy, rf_accuracy]\n",
    "\n",
    "plt.bar(models, accuracies, color=['blue', 'orange', 'green'])\n",
    "plt.xlabel('Models')\n",
    "plt.ylabel('Accuracy')\n",
    "plt.title('Comparison of Model Accuracies')\n",
    "plt.ylim(0, 1)  # Set y-axis limit from 0 to 1 for accuracy range\n",
    "plt.show()\n"
   ]
  },
  {
   "cell_type": "code",
   "execution_count": null,
   "id": "b3a4ffe7-6cd5-4df8-a658-01a51e398bde",
   "metadata": {},
   "outputs": [],
   "source": []
  }
 ],
 "metadata": {
  "kernelspec": {
   "display_name": "Python 3 (ipykernel)",
   "language": "python",
   "name": "python3"
  },
  "language_info": {
   "codemirror_mode": {
    "name": "ipython",
    "version": 3
   },
   "file_extension": ".py",
   "mimetype": "text/x-python",
   "name": "python",
   "nbconvert_exporter": "python",
   "pygments_lexer": "ipython3",
   "version": "3.11.4"
  }
 },
 "nbformat": 4,
 "nbformat_minor": 5
}
