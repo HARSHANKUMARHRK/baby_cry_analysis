{
 "cells": [
  {
   "cell_type": "code",
   "execution_count": 1,
   "id": "3bab2f3e-d9a4-449b-989f-779a9a3e8de8",
   "metadata": {
    "tags": []
   },
   "outputs": [
    {
     "name": "stdout",
     "output_type": "stream",
     "text": [
      "Collecting librosa==0.9.2\n",
      "  Obtaining dependency information for librosa==0.9.2 from https://files.pythonhosted.org/packages/e4/1c/23ef2fd02913d65d43dc7516fc829af709314a66c6f0bdc2e361fdcecc2d/librosa-0.9.2-py3-none-any.whl.metadata\n",
      "  Downloading librosa-0.9.2-py3-none-any.whl.metadata (8.2 kB)\n",
      "Requirement already satisfied: audioread>=2.1.9 in /Users/harshan/anaconda3/lib/python3.11/site-packages (from librosa==0.9.2) (3.0.1)\n",
      "Requirement already satisfied: numpy>=1.17.0 in /Users/harshan/anaconda3/lib/python3.11/site-packages (from librosa==0.9.2) (1.24.3)\n",
      "Requirement already satisfied: scipy>=1.2.0 in /Users/harshan/anaconda3/lib/python3.11/site-packages (from librosa==0.9.2) (1.10.1)\n",
      "Requirement already satisfied: scikit-learn>=0.19.1 in /Users/harshan/anaconda3/lib/python3.11/site-packages (from librosa==0.9.2) (1.3.0)\n",
      "Requirement already satisfied: joblib>=0.14 in /Users/harshan/anaconda3/lib/python3.11/site-packages (from librosa==0.9.2) (1.2.0)\n",
      "Requirement already satisfied: decorator>=4.0.10 in /Users/harshan/anaconda3/lib/python3.11/site-packages (from librosa==0.9.2) (4.4.2)\n",
      "Collecting resampy>=0.2.2 (from librosa==0.9.2)\n",
      "  Obtaining dependency information for resampy>=0.2.2 from https://files.pythonhosted.org/packages/4d/b9/3b00ac340a1aab3389ebcc52c779914a44aadf7b0cb7a3bf053195735607/resampy-0.4.3-py3-none-any.whl.metadata\n",
      "  Downloading resampy-0.4.3-py3-none-any.whl.metadata (3.0 kB)\n",
      "Requirement already satisfied: numba>=0.45.1 in /Users/harshan/anaconda3/lib/python3.11/site-packages (from librosa==0.9.2) (0.57.0)\n",
      "Requirement already satisfied: soundfile>=0.10.2 in /Users/harshan/anaconda3/lib/python3.11/site-packages (from librosa==0.9.2) (0.12.1)\n",
      "Requirement already satisfied: pooch>=1.0 in /Users/harshan/anaconda3/lib/python3.11/site-packages (from librosa==0.9.2) (1.4.0)\n",
      "Requirement already satisfied: packaging>=20.0 in /Users/harshan/anaconda3/lib/python3.11/site-packages (from librosa==0.9.2) (23.0)\n",
      "Requirement already satisfied: llvmlite<0.41,>=0.40.0dev0 in /Users/harshan/anaconda3/lib/python3.11/site-packages (from numba>=0.45.1->librosa==0.9.2) (0.40.0)\n",
      "Requirement already satisfied: requests in /Users/harshan/anaconda3/lib/python3.11/site-packages (from pooch>=1.0->librosa==0.9.2) (2.31.0)\n",
      "Requirement already satisfied: appdirs in /Users/harshan/anaconda3/lib/python3.11/site-packages (from pooch>=1.0->librosa==0.9.2) (1.4.4)\n",
      "Requirement already satisfied: threadpoolctl>=2.0.0 in /Users/harshan/anaconda3/lib/python3.11/site-packages (from scikit-learn>=0.19.1->librosa==0.9.2) (2.2.0)\n",
      "Requirement already satisfied: cffi>=1.0 in /Users/harshan/anaconda3/lib/python3.11/site-packages (from soundfile>=0.10.2->librosa==0.9.2) (1.15.1)\n",
      "Requirement already satisfied: pycparser in /Users/harshan/anaconda3/lib/python3.11/site-packages (from cffi>=1.0->soundfile>=0.10.2->librosa==0.9.2) (2.21)\n",
      "Requirement already satisfied: charset-normalizer<4,>=2 in /Users/harshan/anaconda3/lib/python3.11/site-packages (from requests->pooch>=1.0->librosa==0.9.2) (2.0.4)\n",
      "Requirement already satisfied: idna<4,>=2.5 in /Users/harshan/anaconda3/lib/python3.11/site-packages (from requests->pooch>=1.0->librosa==0.9.2) (2.10)\n",
      "Requirement already satisfied: urllib3<3,>=1.21.1 in /Users/harshan/anaconda3/lib/python3.11/site-packages (from requests->pooch>=1.0->librosa==0.9.2) (1.26.16)\n",
      "Requirement already satisfied: certifi>=2017.4.17 in /Users/harshan/anaconda3/lib/python3.11/site-packages (from requests->pooch>=1.0->librosa==0.9.2) (2023.7.22)\n",
      "Downloading librosa-0.9.2-py3-none-any.whl (214 kB)\n",
      "\u001b[2K   \u001b[38;2;114;156;31m━━━━━━━━━━━━━━━━━━━━━━━━━━━━━━━━━━━━━━━━\u001b[0m \u001b[32m214.3/214.3 kB\u001b[0m \u001b[31m1.6 MB/s\u001b[0m eta \u001b[36m0:00:00\u001b[0m MB/s\u001b[0m eta \u001b[36m0:00:01\u001b[0m:01\u001b[0m\n",
      "\u001b[?25hDownloading resampy-0.4.3-py3-none-any.whl (3.1 MB)\n",
      "\u001b[2K   \u001b[38;2;114;156;31m━━━━━━━━━━━━━━━━━━━━━━━━━━━━━━━━━━━━━━━━\u001b[0m \u001b[32m3.1/3.1 MB\u001b[0m \u001b[31m1.9 MB/s\u001b[0m eta \u001b[36m0:00:00\u001b[0mm eta \u001b[36m0:00:01\u001b[0m[36m0:00:01\u001b[0m\n",
      "\u001b[?25h\u001b[33mDEPRECATION: textract 1.6.5 has a non-standard dependency specifier extract-msg<=0.29.*. pip 23.3 will enforce this behaviour change. A possible replacement is to upgrade to a newer version of textract or contact the author to suggest that they release a version with a conforming dependency specifiers. Discussion can be found at https://github.com/pypa/pip/issues/12063\u001b[0m\u001b[33m\n",
      "\u001b[0mInstalling collected packages: resampy, librosa\n",
      "  Attempting uninstall: librosa\n",
      "    Found existing installation: librosa 0.10.1\n",
      "    Uninstalling librosa-0.10.1:\n",
      "      Successfully uninstalled librosa-0.10.1\n",
      "Successfully installed librosa-0.9.2 resampy-0.4.3\n"
     ]
    }
   ],
   "source": [
    "!pip install librosa==0.9.2"
   ]
  },
  {
   "cell_type": "code",
   "execution_count": 2,
   "id": "13e2d8fc-77ca-49af-8346-897844182d55",
   "metadata": {
    "tags": []
   },
   "outputs": [],
   "source": [
    "import numpy as np\n",
    "import pandas as pd\n",
    "import os\n",
    "import librosa\n",
    "import librosa.display\n",
    "import matplotlib.pyplot as plt\n",
    "from sklearn.model_selection import train_test_split\n",
    "from sklearn.preprocessing import normalize\n",
    "import warnings\n",
    "warnings.filterwarnings('ignore')\n",
    "from sklearn.model_selection import train_test_split\n",
    "import tensorflow\n",
    "from tensorflow.keras.layers import LSTM, Dense"
   ]
  },
  {
   "cell_type": "code",
   "execution_count": 3,
   "id": "c92947af-6c9a-4124-999c-d4d1a8e8a8c4",
   "metadata": {
    "tags": []
   },
   "outputs": [],
   "source": [
    "def create_spectrogram(audio_file, image_file):\n",
    "    fig = plt.figure()\n",
    "    ax = fig.add_subplot(1, 1, 1)\n",
    "    fig.subplots_adjust(left=0, right=1, bottom=0, top=1)\n",
    "\n",
    "    y, sr = librosa.load(audio_file)\n",
    "    ms = librosa.feature.melspectrogram(y, sr=sr)\n",
    "    log_ms = librosa.power_to_db(ms, ref=np.max)\n",
    "    librosa.display.specshow(log_ms, sr=sr)\n",
    "\n",
    "    fig.savefig(image_file)\n",
    "    plt.close(fig)\n",
    "\n",
    "def create_pngs_from_wavs(input_path, output_path):\n",
    "    if not os.path.exists(output_path):\n",
    "        os.makedirs(output_path)\n",
    "\n",
    "    dir = os.listdir(input_path)\n",
    "\n",
    "    for i, file in enumerate(dir):\n",
    "        input_file = os.path.join(input_path, file)\n",
    "        output_file = os.path.join(output_path, file.replace('.wav', '.png'))\n",
    "        create_spectrogram(input_file, output_file)"
   ]
  },
  {
   "cell_type": "code",
   "execution_count": 4,
   "id": "8f7a73a6-61e1-4143-a820-47d4c2acc62b",
   "metadata": {
    "tags": []
   },
   "outputs": [],
   "source": [
    "create_pngs_from_wavs('donateacry_corpus_cleaned_and_updated_data/belly_pain', 'output/belly_pain')\n",
    "create_pngs_from_wavs('donateacry_corpus_cleaned_and_updated_data/burping', 'output/burping')\n",
    "create_pngs_from_wavs('donateacry_corpus_cleaned_and_updated_data/discomfort', 'output/discomfort')\n",
    "create_pngs_from_wavs('donateacry_corpus_cleaned_and_updated_data/hungry', 'output/hungry')\n",
    "create_pngs_from_wavs('donateacry_corpus_cleaned_and_updated_data/tired', 'output/tired')"
   ]
  },
  {
   "cell_type": "code",
   "execution_count": null,
   "id": "609be9a5-4caa-438e-9de0-fbf02c4acf75",
   "metadata": {},
   "outputs": [],
   "source": []
  }
 ],
 "metadata": {
  "kernelspec": {
   "display_name": "Python 3 (ipykernel)",
   "language": "python",
   "name": "python3"
  },
  "language_info": {
   "codemirror_mode": {
    "name": "ipython",
    "version": 3
   },
   "file_extension": ".py",
   "mimetype": "text/x-python",
   "name": "python",
   "nbconvert_exporter": "python",
   "pygments_lexer": "ipython3",
   "version": "3.11.4"
  }
 },
 "nbformat": 4,
 "nbformat_minor": 5
}
